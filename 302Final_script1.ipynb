{
  "nbformat": 4,
  "nbformat_minor": 0,
  "metadata": {
    "colab": {
      "name": "302Final_script1.ipynb",
      "provenance": [],
      "collapsed_sections": [],
      "include_colab_link": true
    },
    "kernelspec": {
      "name": "python3",
      "display_name": "Python 3"
    }
  },
  "cells": [
    {
      "cell_type": "markdown",
      "metadata": {
        "id": "view-in-github",
        "colab_type": "text"
      },
      "source": [
        "<a href=\"https://colab.research.google.com/github/IDCE-MSGIS/final-project-team-3/blob/master/302Final_script1.ipynb\" target=\"_parent\"><img src=\"https://colab.research.google.com/assets/colab-badge.svg\" alt=\"Open In Colab\"/></a>"
      ]
    },
    {
      "cell_type": "code",
      "metadata": {
        "id": "Ubb6grZVbJsi",
        "outputId": "65afdd31-e75f-4bde-e100-dded91ff428a",
        "colab": {
          "base_uri": "https://localhost:8080/",
          "height": 204
        }
      },
      "source": [
        "'''\n",
        "Sophie Spiliotopoulos and Robert Kearney\n",
        "Sept 30, 2020\n",
        "Python 3.6\n",
        "From given latitude and longitude, scrape from a 5 day forecast from the NWS and then run string manipulation to clean up the scraped data\n",
        "#### \n",
        "Edit the NWS_WeatherForecast.py script to add the following functionality:\n",
        "\n",
        "Take latitude and longitude values as inputs in decimal degrees from a user.\n",
        "Convert the latitude and longitude values to strings to generate the URL for the selected location. Pass this URL as an argument in the get() request.\n",
        "The returned forecast information in the existing script did not preserve its spacing during the scraping process. Using the replace() function, fix any spacing issues with the output\n",
        "Convert the final output to uppercase.\n",
        "Remember to update the NWS_WeatherForecast.py file to include comments and documentation in your script to tell me what it’s doing!\n",
        "'''\n",
        "\n",
        "# import required libraries\n",
        "import requests\n",
        "from bs4 import BeautifulSoup\n",
        "\n",
        "# Create an empty list to store response\n",
        "forecast = []\n",
        "\n",
        "## Provide the latitude and longitude for the location you would like to check the forecast for\n",
        "## Lat/lon in decimal degrees provided by user using input()\n",
        "#lat = '42.2634'\n",
        "#lon = '-71.8022'\n",
        "lat = str(input('Latitude: ')) #input lat and change to string \n",
        "lon = str(input('Longitude: ')) #input long and change to string\n",
        "\n",
        "# Create url for the requested location through string concatenation\n",
        "url = 'https://forecast.weather.gov/MapClick.php?lat='+lat+\"&lon=\"+lon\n",
        "# Check if the URL exists\n",
        "# print (url)\n",
        "\n",
        "# Send request to retrieve the web-page using the get() function from the requests library\n",
        "# The page variable stores the response from the web-page\n",
        "page = requests.get(url)\n",
        "\n",
        "# Create a BeautifulSoup object with the response from the URL\n",
        "# Access contents of the web-page using .content\n",
        "# html_parser is used since our page is in HTML format\n",
        "soup=BeautifulSoup(page.content,\"html.parser\")\n",
        "\n",
        "# Locate elements on page to be scraped\n",
        "# findAll() locates all occurrences of div tag with the given class name\n",
        "# stores it in the BeautifulSoup object\n",
        "weather_forecast = soup.findAll(\"li\", {\"class\": \"forecast-tombstone\"})\n",
        "\n",
        "# Loop through the BeautifulSoup object to extract text text from every class instance using .text\n",
        "# Store results in a list\n",
        "for i in weather_forecast:\n",
        "    i = i.text\n",
        "    forecast.append(i)\n",
        "import re\n",
        "# Print list to remove unicode characters\n",
        "#loop through list and clean up\n",
        "#print(forecast)\n",
        "for day in forecast:\n",
        "  day = day.replace('\\n\\n', '')\n",
        "  day = day.replace('\\n',': ')\n",
        "  day = day.replace(day ,re.sub('([A-Z])', r' \\1', day)) #add space in between capitalized words\n",
        "  day = day.replace('  ',' ') #remove double spaces \n",
        "  day = day.replace('° F','°F')\n",
        "  print(day)\n",
        "  \n"
      ],
      "execution_count": null,
      "outputs": [
        {
          "output_type": "stream",
          "text": [
            "Latitude: 42.2634\n",
            "Longitude: -71.8022\n",
            " This Afternoon: Slight Chance Showers High: 70 °F\n",
            " Tonight: Clear Low: 52 °F\n",
            " Thursday: Sunny High: 71 °F\n",
            " Thursday Night: Mostly Clear Low: 49 °F\n",
            " Friday: Chance Showers High: 64 °F\n",
            " Friday Night: Chance Showers then Slight Chance Showers Low: 45 °F\n",
            " Saturday: Sunny High: 63 °F\n",
            " Saturday Night: Mostly Clear Low: 42 °F\n",
            " Sunday: Mostly Sunny High: 62 °F\n"
          ],
          "name": "stdout"
        }
      ]
    }
  ]
}
